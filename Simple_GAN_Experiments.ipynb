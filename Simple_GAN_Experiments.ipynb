{
 "cells": [
  {
   "cell_type": "code",
   "execution_count": 1,
   "metadata": {},
   "outputs": [],
   "source": [
    "import torch\n",
    "import torch.optim as optim\n",
    "import torch.nn as nn\n",
    "\n",
    "from models import models\n",
    "from utils import utils"
   ]
  },
  {
   "cell_type": "code",
   "execution_count": 2,
   "metadata": {},
   "outputs": [
    {
     "name": "stdout",
     "output_type": "stream",
     "text": [
      "Discriminator(\n",
      "  (linear_leakyrelu_stack): Sequential(\n",
      "    (0): Linear(in_features=2, out_features=25, bias=True)\n",
      "    (1): LeakyReLU(negative_slope=0.1)\n",
      "    (2): Linear(in_features=25, out_features=1, bias=True)\n",
      "    (3): Sigmoid()\n",
      "  )\n",
      ")\n",
      "Generator(\n",
      "  (linear_relu_stack): Sequential(\n",
      "    (0): Linear(in_features=5, out_features=15, bias=True)\n",
      "    (1): LeakyReLU(negative_slope=0.3)\n",
      "    (2): Linear(in_features=15, out_features=2, bias=True)\n",
      "  )\n",
      ")\n"
     ]
    }
   ],
   "source": [
    "# Create the Generator and Discriminator and print their architectue\n",
    "output_space_dim = 2\n",
    "latent_space_dim = 5\n",
    "discriminator = models.Discriminator(output_space_dim)\n",
    "generator = models.Generator(latent_space_dim, output_space_dim)\n",
    "print(discriminator)\n",
    "print(generator)"
   ]
  },
  {
   "cell_type": "code",
   "execution_count": 3,
   "metadata": {},
   "outputs": [],
   "source": [
    "# Define the function we are trying to embed\n",
    "def f(x):\n",
    "    return x**3"
   ]
  },
  {
   "cell_type": "code",
   "execution_count": 4,
   "metadata": {},
   "outputs": [
    {
     "name": "stdout",
     "output_type": "stream",
     "text": [
      "epoch: 0 discriminator loss: 1.489464521408081 generator loss: 0.6111365556716919\n",
      "epoch: 2000 discriminator loss: 1.3948113918304443 generator loss: 0.7131575345993042\n",
      "epoch: 4000 discriminator loss: 1.380855917930603 generator loss: 0.7080903053283691\n",
      "epoch: 6000 discriminator loss: 1.3795185089111328 generator loss: 0.6776439547538757\n",
      "epoch: 8000 discriminator loss: 1.3296706676483154 generator loss: 0.726732611656189\n",
      "epoch: 10000 discriminator loss: 1.4316630363464355 generator loss: 0.6775069236755371\n",
      "epoch: 12000 discriminator loss: 1.360097885131836 generator loss: 0.7192155718803406\n",
      "epoch: 14000 discriminator loss: 1.3699898719787598 generator loss: 0.6922861337661743\n",
      "epoch: 16000 discriminator loss: 1.3480926752090454 generator loss: 0.700426459312439\n",
      "epoch: 18000 discriminator loss: 1.3960089683532715 generator loss: 0.7000359296798706\n",
      "epoch: 20000 discriminator loss: 1.4268560409545898 generator loss: 0.7315393686294556\n"
     ]
    }
   ],
   "source": [
    "# Train the GAN \n",
    "func = f\n",
    "discriminator.train()\n",
    "generator.train()\n",
    "batch_size = 8\n",
    "\n",
    "gen_optimizer = optim.Adam(params=filter(lambda p: p.requires_grad, generator.parameters()), lr=0.0003)\n",
    "dis_optimizer = optim.Adam(params=filter(lambda p: p.requires_grad, discriminator.parameters()), lr=0.003)\n",
    "criterion = nn.BCELoss()\n",
    "\n",
    "for i in range(20001):\n",
    "    # Train the discriminator first\n",
    "    X_generated, y_generated = utils.run_generator(generator, batch_size)\n",
    "    X_real, y_real = utils.generate_ground_truth(func, batch_size)\n",
    "    dis_loss = criterion(discriminator(X_generated), y_generated) + criterion(discriminator(X_real), y_real)\n",
    "    \n",
    "    # Backprop and update the discriminator\n",
    "    dis_optimizer.zero_grad()\n",
    "    dis_loss.backward()\n",
    "    dis_optimizer.step()\n",
    "    \n",
    "    # Time to train the Generator\n",
    "    X_generated, y_generated = utils.run_generator(generator, batch_size)\n",
    "    gen_loss = criterion(discriminator(X_generated), torch.ones_like(y_generated)) # Note the flipped target values\n",
    "    \n",
    "    # Backprop and update the generator\n",
    "    gen_optimizer.zero_grad()\n",
    "    gen_loss.backward()\n",
    "    gen_optimizer.step()\n",
    "    \n",
    "    # Print losses every few iterations\n",
    "    if i % 2000 == 0:\n",
    "        print(\"epoch: {} discriminator loss: {} generator loss: {}\".format(i, dis_loss.item(), gen_loss.item()))\n",
    "#     del X_generated, gen_loss\n",
    "    "
   ]
  },
  {
   "cell_type": "code",
   "execution_count": 5,
   "metadata": {},
   "outputs": [],
   "source": [
    "# Generate some data after training\n",
    "func = f\n",
    "generator.eval()\n",
    "data, labels = utils.run_generator(generator, 75)\n",
    "data = data.detach().numpy()\n",
    "data_gt, labels = utils.generate_ground_truth(func, 50)\n",
    "# print(data)"
   ]
  },
  {
   "cell_type": "code",
   "execution_count": 6,
   "metadata": {},
   "outputs": [
    {
     "data": {
      "text/plain": [
       "<matplotlib.legend.Legend at 0x1ca68c94eb0>"
      ]
     },
     "execution_count": 6,
     "metadata": {},
     "output_type": "execute_result"
    },
    {
     "data": {
      "image/png": "[encoded data removed]",
      "text/plain": [
       "<Figure size 864x576 with 1 Axes>"
      ]
     },
     "metadata": {
      "needs_background": "light"
     },
     "output_type": "display_data"
    }
   ],
   "source": [
    "# Plot result agains the function we were trying to learn\n",
    "import matplotlib.pyplot as plt\n",
    "plt.rcParams['figure.figsize'] = [12, 8]\n",
    "plt.scatter(data_gt[:, 0], data_gt[:, 1], color='blue', label='Ground Truth')\n",
    "plt.scatter(data[:, 0], data[:, 1], color='red', label='Generator Output')\n",
    "plt.legend()"
   ]
  },
  {
   "cell_type": "code",
   "execution_count": null,
   "metadata": {},
   "outputs": [],
   "source": []
  }
 ],
 "metadata": {
  "kernelspec": {
   "display_name": "Python 3",
   "language": "python",
   "name": "python3"
  },
  "language_info": {
   "codemirror_mode": {
    "name": "ipython",
    "version": 3
   },
   "file_extension": ".py",
   "mimetype": "text/x-python",
   "name": "python",
   "nbconvert_exporter": "python",
   "pygments_lexer": "ipython3",
   "version": "3.8.3rc1"
  }
 },
 "nbformat": 4,
 "nbformat_minor": 4
}
